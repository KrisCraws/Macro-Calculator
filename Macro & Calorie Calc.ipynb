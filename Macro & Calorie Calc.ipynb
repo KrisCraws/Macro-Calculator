{
 "cells": [
  {
   "cell_type": "code",
   "execution_count": null,
   "id": "97e3c066-20f7-4ec6-8d9a-929b3c570f6e",
   "metadata": {},
   "outputs": [],
   "source": [
    "input('Are you looking to lose, gain, or recomp? Please type the singular word here"
   ]
  },
  {
   "cell_type": "code",
   "execution_count": 60,
   "id": "95fe27b6-2d67-4404-944a-fd7fd6b3a3d7",
   "metadata": {},
   "outputs": [
    {
     "name": "stdin",
     "output_type": "stream",
     "text": [
      "What is your current weight?\" \n",
      " >>> 170\n",
      "How many times do you lift per week? \n",
      " >>> 3\n"
     ]
    },
    {
     "name": "stdout",
     "output_type": "stream",
     "text": [
      "Per day, your calorie needs for a... \n",
      "\t coma: 1700\n",
      "\t body re-comp: 2210\n"
     ]
    }
   ],
   "source": [
    "bodyWeight = int(input('What is your current weight?\" \\n >>>'))\n",
    "coma_calorie_need = bodyWeight * 10\n",
    "\n",
    "\n",
    "#Sedentary Job - lift 1-3 times per week have a 1.3 multiplier\n",
    "#Sedentary Job - lift 5 times per week have a 1.5 multiplier\n",
    "#Active Job + Lifts 5 Times a Week Multipler = 1.8\n",
    "\n",
    "times_lifting = input('How many times do you lift per week? \\n >>>')\n",
    "activity_multiplier = \"1.\" + times_lifting\n",
    "\n",
    "maintenance_calories = coma_calorie_need * float(activity_multiplier)\n",
    "\n",
    "print(f'Per day, your calorie needs for a... \\n\\t coma: {round(coma_calorie_need)}')\n",
    "print(f'\\t body re-comp: {round(maintenance_calories)}')\n",
    "\n"
   ]
  },
  {
   "cell_type": "code",
   "execution_count": null,
   "id": "fa65a1aa-5290-4fa4-8b14-bda486075b3d",
   "metadata": {},
   "outputs": [],
   "source": []
  },
  {
   "cell_type": "markdown",
   "id": "9b5d440b-3045-4c7d-a1e6-5edb4024edf5",
   "metadata": {},
   "source": [
    "# To Lose Fat\n",
    "Aim to lose .5 - 1%\n",
    "If you can almost see your abs 0.5\n",
    "200 lbs and 50lbs to lose: 1% BW/wk\n",
    "train hard & make sure you eat enough protein"
   ]
  },
  {
   "cell_type": "code",
   "execution_count": 61,
   "id": "0a2f8616-4643-4ef1-9b58-1449db16babe",
   "metadata": {},
   "outputs": [
    {
     "name": "stdin",
     "output_type": "stream",
     "text": [
      "How many pounds per week would you like to lose? \n",
      " >>> 2\n"
     ]
    }
   ],
   "source": [
    "# Calorie Needs & Adjusting For Goals - 7:19 coma calories + activity multipler should be *\n",
    "pounds_a_week_to_lose = input('How many pounds per week would you like to lose? \\n >>>')\n",
    "\n",
    "### YO THAT'S MORE THAN 1% OF YOUR BODY WEIGHT. NO!\n",
    "\n",
    "calories_deficit_needed = float(pounds_a_week_to_lose) * 3500\n",
    "#_weight = maintenance_calories - int(\n",
    "##### print(calories_deficit_needed)\n",
    "\n",
    "calories_to_lose_per_day = calories_deficit_needed / 7\n",
    "##### print(calories_to_lose_per_day)"
   ]
  },
  {
   "cell_type": "code",
   "execution_count": 62,
   "id": "b928e5cd-3949-40a5-84ac-b1738e06135e",
   "metadata": {},
   "outputs": [
    {
     "name": "stdout",
     "output_type": "stream",
     "text": [
      "Per day, your calories needed to lose 2 pounds a week are: 1210\n"
     ]
    }
   ],
   "source": [
    "print(f'Per day, your calories needed to lose {pounds_a_week_to_lose} pounds a week are: {round(maintenance_calories - calories_to_lose_per_day)}')"
   ]
  },
  {
   "cell_type": "markdown",
   "id": "c6f63cd4-7522-4eea-8717-6d7464bd875e",
   "metadata": {},
   "source": [
    "# To Gain"
   ]
  },
  {
   "cell_type": "code",
   "execution_count": null,
   "id": "378ddf4e-2406-4499-ac67-9c9c23334ae2",
   "metadata": {},
   "outputs": [],
   "source": [
    "# new to training: aim for 1% - 1.5% monthly. focus on monthly gains!!\n",
    "# fat loss rates are always going to be higher than muscle gain rates\n",
    "# intermediate: .5% - 1%\n"
   ]
  }
 ],
 "metadata": {
  "kernelspec": {
   "display_name": "Python 3 (ipykernel)",
   "language": "python",
   "name": "python3"
  },
  "language_info": {
   "codemirror_mode": {
    "name": "ipython",
    "version": 3
   },
   "file_extension": ".py",
   "mimetype": "text/x-python",
   "name": "python",
   "nbconvert_exporter": "python",
   "pygments_lexer": "ipython3",
   "version": "3.12.1"
  }
 },
 "nbformat": 4,
 "nbformat_minor": 5
}
